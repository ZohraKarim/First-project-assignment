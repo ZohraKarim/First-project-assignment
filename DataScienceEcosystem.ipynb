{
  "metadata": {
    "language_info": {
      "codemirror_mode": {
        "name": "python",
        "version": 3
      },
      "file_extension": ".py",
      "mimetype": "text/x-python",
      "name": "python",
      "nbconvert_exporter": "python",
      "pygments_lexer": "ipython3",
      "version": "3.8"
    },
    "kernelspec": {
      "name": "python",
      "display_name": "Python (Pyodide)",
      "language": "python"
    }
  },
  "nbformat_minor": 4,
  "nbformat": 4,
  "cells": [
    {
      "cell_type": "markdown",
      "source": "**Data Science Tools and Ecosystem**",
      "metadata": {}
    },
    {
      "cell_type": "markdown",
      "source": "In this notebook,several eco systems are describe which are helpful to Data Scientist.These might include tools and techniques for handilin and managing with structured and unstructured data.different Methodolgies can also incorporated.",
      "metadata": {}
    },
    {
      "cell_type": "markdown",
      "source": "***languages use***",
      "metadata": {}
    },
    {
      "cell_type": "markdown",
      "source": "Data science use following languages to carry out data management,like\n1. Python\n2. R\n3. SQL\n4. others",
      "metadata": {}
    },
    {
      "cell_type": "markdown",
      "source": "**Objectives**\nby the end of the course, learner able to,\n\n* demonstrate understanding of python language\n* perform basic commands on jupiter notebook.\n* use different libraries in future project\n* showcase their work in a story telling form.",
      "metadata": {}
    },
    {
      "cell_type": "markdown",
      "source": "Data scientists use several libraries to carryout the task.Nature of incorporated libraries includes on the task once carry out,whether its dealing with arrays or charts and visualization or using pipelines etc.some common names are\n1. Panda\n2. Numpy\n3. Scipy",
      "metadata": {}
    },
    {
      "cell_type": "markdown",
      "source": "|__Tools for Data Science___|\n|----------------------------|\n|jupiter Notebook|open source|\n|googlecolab|open source|\n|jupiterLite|open and browsing tool|\n",
      "metadata": {}
    },
    {
      "cell_type": "markdown",
      "source": "below are the examples of arithmatic expressions using python",
      "metadata": {}
    },
    {
      "cell_type": "code",
      "source": "#the simple calculation by python for multiplication and adding the integer using BODMAS rule done by python\n(4*3)+5",
      "metadata": {
        "trusted": true
      },
      "execution_count": 4,
      "outputs": [
        {
          "execution_count": 4,
          "output_type": "execute_result",
          "data": {
            "text/plain": "17"
          },
          "metadata": {}
        }
      ]
    },
    {
      "cell_type": "code",
      "source": "#Insert a comment line before the expression to explain the operation e.g.  This will convert 200 minutes to hours by diving by 60.\n200/60",
      "metadata": {
        "trusted": true
      },
      "execution_count": 6,
      "outputs": [
        {
          "execution_count": 6,
          "output_type": "execute_result",
          "data": {
            "text/plain": "3.3333333333333335"
          },
          "metadata": {}
        }
      ]
    },
    {
      "cell_type": "markdown",
      "source": "***Author***\nZohra Karim",
      "metadata": {}
    },
    {
      "cell_type": "code",
      "source": "",
      "metadata": {},
      "execution_count": null,
      "outputs": []
    }
  ]
}